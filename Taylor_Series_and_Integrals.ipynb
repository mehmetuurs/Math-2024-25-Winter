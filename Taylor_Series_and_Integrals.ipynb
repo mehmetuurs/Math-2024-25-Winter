{
  "nbformat": 4,
  "nbformat_minor": 0,
  "metadata": {
    "colab": {
      "provenance": [],
      "authorship_tag": "ABX9TyPEcJW83nJjCuwNcK34NbrB",
      "include_colab_link": true
    },
    "kernelspec": {
      "name": "python3",
      "display_name": "Python 3"
    },
    "language_info": {
      "name": "python"
    }
  },
  "cells": [
    {
      "cell_type": "markdown",
      "metadata": {
        "id": "view-in-github",
        "colab_type": "text"
      },
      "source": [
        "<a href=\"https://colab.research.google.com/github/mehmetuurs/Math-2024-25-Winter/blob/main/Taylor_Series_and_Integrals.ipynb\" target=\"_parent\"><img src=\"https://colab.research.google.com/assets/colab-badge.svg\" alt=\"Open In Colab\"/></a>"
      ]
    },
    {
      "cell_type": "markdown",
      "source": [
        "# Exercise 1: Taylor Series Expansion and Visualization\n",
        "\n",
        "In this exercise, we compute the Taylor series expansions of the following functions:\n",
        "\n",
        "1. $f(x) = \\cos(x)$ around $x = 0$ up to the 4th degree.\n",
        "2. $h(x) = \\frac{1}{1 - x}$ around $x = 0$ up to the 4th degree.\n",
        "3. $g(x) = \\sin(x)$ around $x = \\pi$ up to the 4th degree.\n",
        "\n",
        "\n",
        "\n",
        "### **Solutions:**\n",
        "\n",
        "#### 1. $f(x) = \\cos(x)$ around $x = 0$:\n",
        "The Taylor series for $\\cos(x)$ is:\n",
        "$$\n",
        "\\cos(x) = 1 - \\frac{x^2}{2!} + \\frac{x^4}{4!} + \\dots\n",
        "$$\n",
        "At $x = 0$, the expansion up to the 4th degree is:\n",
        "$$\n",
        "f(x) = 1 - \\frac{x^2}{2} + \\frac{x^4}{24}\n",
        "$$\n",
        "\n",
        "#### 2. $h(x) = \\frac{1}{1 - x}$ around $x = 0$:\n",
        "The Taylor series for $\\frac{1}{1 - x}$ is:\n",
        "$$\n",
        "\\frac{1}{1 - x} = 1 + x + x^2 + x^3 + \\dots\n",
        "$$\n",
        "At $x = 0$, the expansion up to the 4th degree is:\n",
        "$$\n",
        "h(x) = 1 + x + x^2 + x^3\n",
        "$$\n",
        "\n",
        "#### 3. $g(x) = \\sin(x)$ around $x = \\pi$:\n",
        "The Taylor series for $\\sin(x)$ around $x = a$ is:\n",
        "$$\n",
        "\\sin(x) = \\sin(a) + \\cos(a)(x - a) - \\frac{\\sin(a)(x - a)^2}{2!} - \\frac{\\cos(a)(x - a)^3}{3!} + \\dots\n",
        "$$\n",
        "At $a = \\pi$, $\\sin(\\pi) = 0$ and $\\cos(\\pi) = -1$. The expansion up to the 4th degree is:\n",
        "$$\n",
        "g(x) = -(x - \\pi) + \\frac{(x - \\pi)^3}{6}\n",
        "$$\n",
        "\n",
        "\n"
      ],
      "metadata": {
        "id": "8K961LDQlEg4"
      }
    },
    {
      "cell_type": "markdown",
      "source": [
        "[Open my GeoGebra work](https://www.geogebra.org/m/tzbhja5c)\n"
      ],
      "metadata": {
        "id": "wkw2y6N0tArA"
      }
    },
    {
      "cell_type": "markdown",
      "source": [
        "#Exercise 2\n",
        "\n",
        "## Find a tangent line $y = f'(x_0)(x - x_0) + f(x_0)$ to the function $f(x) = e^{\\sin(x)}$ at $x_0 = \\pi$.\n",
        "\n",
        "**Solution:**\n",
        "\n",
        "1. **Find the derivative of $f(x)$:**\n",
        "\n",
        "   We use the chain rule to find the derivative:\n",
        "   $$f'(x) = \\cos(x) \\cdot e^{\\sin(x)}$$\n",
        "\n",
        "2. **Evaluate $f(x)$ and $f'(x)$ at $x_0 = \\pi$:**\n",
        "\n",
        "   Substitute $x_0 = \\pi$ into the function and its derivative:\n",
        "   $$f(\\pi) = e^{\\sin(\\pi)} = e^0 = 1$$\n",
        "   $$f'(\\pi) = \\cos(\\pi) \\cdot e^{\\sin(\\pi)} = -1 \\cdot e^0 = -1$$\n",
        "\n",
        "3. **Substitute into the tangent line equation:**\n",
        "\n",
        "   The equation of the tangent line is given by:\n",
        "   $$y = f'(x_0)(x - x_0) + f(x_0)$$\n",
        "   Substituting the values we found:\n",
        "   $$y = -1(x - \\pi) + 1$$\n",
        "   $$y = -x + \\pi + 1$$\n",
        "\n",
        "Therefore, the equation of the tangent line to $f(x) = e^{\\sin(x)}$ at $x_0 = \\pi$ is $y = -x + \\pi + 1$."
      ],
      "metadata": {
        "id": "dXOSJT8HwXci"
      }
    },
    {
      "cell_type": "markdown",
      "source": [
        "[Open my GeoGebra work](https://www.geogebra.org/calculator/kbjkefte)"
      ],
      "metadata": {
        "id": "WCYu4hJs3hKM"
      }
    },
    {
      "cell_type": "markdown",
      "source": [
        "###INTEGRALS\n"
      ],
      "metadata": {
        "id": "M3cvSSLi0spI"
      }
    },
    {
      "cell_type": "markdown",
      "source": [
        "\n",
        "\n",
        "\n",
        "**Exercise 1: Computing Integrals\n",
        "\n",
        "**Solutions and Explanations:**\n",
        "\n",
        "1. **$\\int 1 dx$**\n",
        "   - **Solution:** $x + C$\n",
        "   - **Explanation:** This is like asking, \"What function, when you find its slope (derivative), gives you 1?\" The answer is simply 'x' (because the slope of 'x' is always 1). The '+ C' part represents any constant value, which wouldn't change the slope. **Formula:  $\\int k dx = kx + C$, where k is a constant.**\n",
        "\n",
        "2. **$\\int (x^2 + 2) dx$**\n",
        "   - **Solution:** $\\frac{x^3}{3} + 2x + C$\n",
        "   - **Explanation:** We break this down into smaller parts. The integral of 'x^2' is 'x^3/3' (like reversing the power rule for derivatives). The integral of '2' is '2x' (similar to the first problem). We add these results and include the '+ C' for any constant. **Formula: $\\int (x^n + k) dx = \\frac{x^{n+1}}{n+1} + kx + C$**\n",
        "\n",
        "3. **$\\int 2\\sin(x) dx$**\n",
        "   - **Solution:** $-2\\cos(x) + C$\n",
        "   - **Explanation:** The integral of 'sin(x)' is '-cos(x)' (a fundamental rule in calculus). Since we have '2sin(x)', we multiply the result by 2 and add '+ C'.  **Formula: $\\int k\\sin(x) dx = -k\\cos(x) + C$, where k is a constant.**\n",
        "\n",
        "4. **$\\int 3x dx$**\n",
        "   - **Solution:** $\\frac{3x^2}{2} + C$\n",
        "   - **Explanation:** The integral of 'x' is 'x^2/2' (reversing the power rule). We multiply this by the constant '3' and add '+ C'. **Formula: $\\int kx dx = \\frac{kx^2}{2} + C$, where k is a constant.**\n",
        "\n",
        "5. **$\\int 1x^2 dx$**\n",
        "   - **Solution:** $\\frac{x^3}{3} + C$\n",
        "   - **Explanation:** This is the same as the integral of 'x^2', which is 'x^3/3', plus the constant of integration '+ C'. **Formula: $\\int x^2 dx = \\frac{x^3}{3} + C$**\n",
        "\n",
        "6. **$\\int (13x^4 - 5) dx$**\n",
        "   - **Solution:** $\\frac{13x^5}{5} - 5x + C$\n",
        "   - **Explanation:** We treat each part separately. The integral of '13x^4' is '13x^5/5' (power rule in reverse). The integral of '-5' is '-5x'. We combine them and add '+ C'.  **Formula: $\\int (ax^n + b) dx = \\frac{ax^{n+1}}{n+1} + bx + C$**\n",
        "\n",
        "7. **$\\int (\\sin^2 x + \\cos^2 x) dx$**\n",
        "   - **Solution:** $x + C$\n",
        "   - **Explanation:** This uses a trigonometric identity: 'sin^2(x) + cos^2(x)' always equals '1'. So, we're really just finding the integral of '1', which is 'x + C'. **Formula: $\\int (\\sin^2 x + \\cos^2 x) dx = \\int 1 dx = x + C$**\n",
        "\n",
        "8. **$\\int (5\\sin x + 3e^x) dx$**\n",
        "   - **Solution:** $-5\\cos x + 3e^x + C$\n",
        "   - **Explanation:** We integrate each part. The integral of '5sin(x)' is '-5cos(x)'. The integral of '3e^x' is '3e^x' (a special case). We add them together and include '+ C'. **Formula: $\\int (a\\sin x + be^x) dx = -a\\cos x + be^x + C$**\n",
        "\n",
        "9. **$\\int x^3 dx$**\n",
        "   - **Solution:** $\\frac{x^4}{4} + C$\n",
        "   - **Explanation:** Applying the power rule in reverse, the integral of 'x^3' is 'x^4/4', plus the constant '+ C'. **Formula: $\\int x^3 dx = \\frac{x^4}{4} + C$**\n",
        "\n",
        "10. **$\\int 10x dx$**\n",
        "   - **Solution:** $5x^2 + C$\n",
        "   - **Explanation:** Similar to the '3x' example, the integral of 'x' is 'x^2/2'. We multiply by 10 to get '5x^2', and add the '+ C'. **Formula: $\\int kx dx = \\frac{kx^2}{2} + C$**\n",
        "\n",
        "11. **$\\int \\cos(\\frac{5}{2}x + 3) dx$**\n",
        "    - **Solution:** $\\frac{2}{5}\\sin(\\frac{5}{2}x + 3) + C$\n",
        "    - **Explanation:** This one uses a technique called 'substitution'. We imagine the inside part ('(5/2)x + 3') as a single variable (like 'u'). Then we adjust to integrate with respect to 'u' and substitute back at the end. It's like peeling back layers to get to a simpler problem. **Formula: $\\int \\cos(ax + b) dx = \\frac{1}{a}\\sin(ax + b) + C$**\n",
        "\n",
        "12. **$\\int \\frac{\\cos(\\ln(x))}{x} dx$**\n",
        "    - **Solution:** $\\sin(\\ln(x)) + C$\n",
        "    - **Explanation:** Similar to the previous one, we use substitution. We treat 'ln(x)' as a single variable and adjust the integral accordingly. **Formula: $\\int \\frac{\\cos(\\ln(x))}{x} dx = \\sin(\\ln(x)) + C$**\n",
        "\n",
        "13. **$\\int x\\ln(x) dx$**\n",
        "    - **Solution:** $\\frac{x^2}{2}\\ln(x) - \\frac{x^2}{4} + C$\n",
        "    - **Explanation:** This uses a method called 'integration by parts', which is a way to handle integrals of products of functions. It involves carefully choosing parts of the expression and applying a specific formula.  **Formula: $\\int u dv = uv - \\int v du$**\n",
        "\n",
        "14. **$\\int xe^x dx$**\n",
        "    - **Solution:** $xe^x - e^x + C$\n",
        "    - **Explanation:** Like the previous problem, this uses integration by parts to handle the product of 'x' and 'e^x'. Applying the method leads to the solution, and we add '+ C' for the constant of integration. **Formula: $\\int u dv = uv - \\int v du$**"
      ],
      "metadata": {
        "id": "QYm7g13E3EbY"
      }
    },
    {
      "cell_type": "markdown",
      "source": [
        "## Exercise 2: Calculate integrals over the interval $[0, \\pi]$ and visualize them in Geogebra\n",
        "\n",
        "**Functions:**\n",
        "\n",
        "$f(x) = 2x + 1$\n",
        "\n",
        "$g(x) = x^2$\n",
        "\n",
        "**Solutions and Explanations:**\n",
        "\n",
        "1. **Integral of $f(x) = 2x + 1$ over $[0, \\pi]$:**\n",
        "\n",
        "   - **Solution:**\n",
        "      $$ \\int_0^\\pi (2x + 1) dx = [x^2 + x]_0^\\pi = (\\pi^2 + \\pi) - (0^2 + 0) = \\pi^2 + \\pi $$\n",
        "\n",
        "   - **Explanation:**\n",
        "     To calculate the definite integral, we first find the antiderivative (indefinite integral) of the function $2x + 1$, which is $x^2 + x + C$ (where C is the constant of integration). Then, we evaluate this antiderivative at the upper limit of integration ($\\pi$) and the lower limit of integration (0) and subtract the results. This gives us the area under the curve of the function between the specified limits.\n",
        "\n",
        "2. **Integral of $g(x) = x^2$ over $[0, \\pi]$:**\n",
        "\n",
        "   - **Solution:**\n",
        "      $$ \\int_0^\\pi x^2 dx = \\left[\\frac{x^3}{3}\\right]_0^\\pi = \\frac{\\pi^3}{3} - \\frac{0^3}{3} = \\frac{\\pi^3}{3} $$\n",
        "\n",
        "   - **Explanation:**\n",
        "     Similar to the previous case, we first find the antiderivative of $x^2$, which is $\\frac{x^3}{3} + C$. Then, we evaluate this antiderivative at the upper limit ($\\pi$) and the lower limit (0) and subtract the results to obtain the definite integral, which represents the area under the curve of $g(x) = x^2$ between $x = 0$ and $x = \\pi$.\n",
        "\n",
        "\n"
      ],
      "metadata": {
        "id": "SW-y9zZy3x0l"
      }
    },
    {
      "cell_type": "markdown",
      "source": [
        "[GeoGebra](https://www.geogebra.org/calculator/wcbthjmh)"
      ],
      "metadata": {
        "id": "DMjxU-px5z9I"
      }
    },
    {
      "cell_type": "markdown",
      "source": [
        "## Calculate the area of the region bounded by the lines: $x = 1$, $x = 2$, $y = 0$, and $y = x^2 + 1$\n",
        "\n",
        "**Exercise 3: Area Bounded by Curves**\n",
        "\n",
        "**Solution and Explanation:**\n",
        "\n",
        "1. **Set up the integral:**\n",
        "   The area of the region is given by the definite integral of the function $y = x^2 + 1$ with respect to $x$, evaluated between the limits $x = 1$ and $x = 2$. This is because the integral represents the area under the curve.\n",
        "\n",
        "2. **Calculate the integral:**\n",
        "   $$\n",
        "   \\begin{aligned}\n",
        "   \\text{Area} &= \\int_1^2 (x^2 + 1) dx \\\\\n",
        "   &= \\left[ \\frac{x^3}{3} + x \\right]_1^2 \\\\\n",
        "   &= \\left( \\frac{2^3}{3} + 2 \\right) - \\left( \\frac{1^3}{3} + 1 \\right) \\\\\n",
        "   &= \\left( \\frac{8}{3} + 2 \\right) - \\left( \\frac{1}{3} + 1 \\right) \\\\\n",
        "   &= \\frac{8}{3} + 2 - \\frac{1}{3} - 1 \\\\\n",
        "   &= \\frac{7}{3} + 1 \\\\\n",
        "   &= \\frac{10}{3}\n",
        "   \\end{aligned}\n",
        "   $$\n",
        "\n",
        "Therefore, the area of the region bounded by the lines $x = 1$, $x = 2$, $y = 0$, and $y = x^2 + 1$ is $\\frac{10}{3}$.\n",
        "\n",
        "\n",
        "**Explanation:**\n",
        "\n",
        "- The integral $\\int_1^2 (x^2 + 1) dx$ represents the area under the curve $y = x^2 + 1$ between the vertical lines $x = 1$ and $x = 2$.\n",
        "- We find the antiderivative of $x^2 + 1$, which is $\\frac{x^3}{3} + x$.\n",
        "- We evaluate the antiderivative at the upper limit (2) and the lower limit (1) and subtract the results to find the definite integral, which is the area.\n",
        "\n"
      ],
      "metadata": {
        "id": "hP65GD5t55Fd"
      }
    },
    {
      "cell_type": "markdown",
      "source": [
        "[GeoGebra](https://www.geogebra.org/calculator/ajteksgb)"
      ],
      "metadata": {
        "id": "f1EvZag59NEe"
      }
    },
    {
      "cell_type": "markdown",
      "source": [
        "## Calculate the area under the sine curve over the interval $[0, \\pi]$, using:\n",
        "\n",
        "$P = \\int_a^b f(x) ,dx = \\int_0^\\pi \\sin(x) ,dx$\n",
        "\n",
        "**Exercise 4: Area under the Sine Curve**\n",
        "\n",
        "**Solution and Explanation:**\n",
        "\n",
        "1. **Find the antiderivative:**\n",
        "   The antiderivative of $\\sin(x)$ is $-\\cos(x)$.\n",
        "\n",
        "2. **Evaluate the antiderivative at the limits of integration:**\n",
        "   $$\n",
        "   \\begin{aligned}\n",
        "   P &= \\int_0^\\pi \\sin(x) dx \\\\\n",
        "   &= [-\\cos(x)]_0^\\pi \\\\\n",
        "   &= (-\\cos(\\pi)) - (-\\cos(0)) \\\\\n",
        "   &= (-(-1)) - (-1) \\\\\n",
        "   &= 1 + 1 \\\\\n",
        "   &= 2\n",
        "   \\end{aligned}\n",
        "   $$\n",
        "\n",
        "Therefore, the area under the sine curve over the interval $[0, \\pi]$ is 2.\n",
        "\n",
        "**Explanation:**\n",
        "\n",
        "- The definite integral $\\int_a^b f(x) dx$ represents the area under the curve of the function $f(x)$ between the limits $a$ and $b$.\n",
        "- In this case, $f(x) = \\sin(x)$, $a = 0$, and $b = \\pi$.\n",
        "- We find the antiderivative of $\\sin(x)$, which is $-\\cos(x)$.\n",
        "- We evaluate the antiderivative at the upper limit ($\\pi$) and the lower limit (0) and subtract the results to find the definite integral, which represents the area."
      ],
      "metadata": {
        "id": "NbDrHd3H9ozA"
      }
    },
    {
      "cell_type": "markdown",
      "source": [
        "## Calculate the length of the sine curve over the same interval using:\n",
        "\n",
        "$L = \\int_a^b \\sqrt{1 + (f'(x))^2} ,dx = \\int_0^\\pi \\sqrt{1 + \\cos^2(x)} ,dx$\n",
        "\n",
        "**Exercise 5: Arc Length of the Sine Curve**\n",
        "\n",
        "**Solution and Explanation:**\n",
        "\n",
        "1. **Understand the formula:**\n",
        "   The formula $L = \\int_a^b \\sqrt{1 + (f'(x))^2} dx$ is used to calculate the arc length of a curve defined by the function $f(x)$ between the points $x = a$ and $x = b$. In this case, $f(x) = \\sin(x)$, so $f'(x) = \\cos(x)$.\n",
        "\n",
        "2. **Set up the integral:**\n",
        "   Substituting the values into the formula, we get:\n",
        "   $$L = \\int_0^\\pi \\sqrt{1 + \\cos^2(x)} dx$$\n",
        "\n",
        "\n"
      ],
      "metadata": {
        "id": "h4HCLAi6_RqH"
      }
    },
    {
      "cell_type": "markdown",
      "source": [
        "## Find the distance of the moving particle between time $t = 0$ and $t = 2$ for the following position function: $x(t) = 3t^2 - 6t + 1$.\n",
        "\n",
        "**Exercise 6: Distance Traveled by a Particle**\n",
        "\n",
        "**Solution and Explanation:**\n",
        "\n",
        "1. **Find the velocity function:**\n",
        "   The velocity function is the derivative of the position function:\n",
        "   $$v(t) = x'(t) = 6t - 6$$\n",
        "\n",
        "2. **Determine when the particle changes direction:**\n",
        "   The particle changes direction when its velocity is zero:\n",
        "   $$v(t) = 0 \\Rightarrow 6t - 6 = 0 \\Rightarrow t = 1$$\n",
        "   So the particle changes direction at $t = 1$.\n",
        "\n",
        "3. **Calculate the distance traveled in each interval:**\n",
        "   - From $t = 0$ to $t = 1$: Distance$_1$ = 3\n",
        "   - From $t = 1$ to $t = 2$: Distance$_2$ = 3\n",
        "\n",
        "4. **Calculate the total distance:**\n",
        "   The total distance traveled is the sum of the distances in each interval:\n",
        "   $$\n",
        "   \\text{Total Distance} = \\text{Distance}_1 + \\text{Distance}_2 = 3 + 3 = 6\n",
        "   $$\n",
        "\n",
        "Therefore, the distance of the moving particle between time $t = 0$ and $t = 2$ is 6.\n",
        "\n",
        "**Explanation:**\n",
        "\n",
        "- **Distance Formula:**\n",
        "   The distance traveled by a particle with velocity function $v(t)$ over the time interval $[a, b]$ is given by the integral:\n",
        "   $$\n",
        "   \\text{Distance} = \\int_a^b |v(t)| \\, dt\n",
        "   $$\n",
        "   where $|v(t)|$ is the absolute value of the velocity function.\n",
        "\n",
        "- To find the distance traveled, we need to consider the absolute value of the velocity function, $|v(t)|$, because distance is always positive.\n",
        "- We integrate $|v(t)|$ over the given time interval to calculate the total distance.\n",
        "- Since the particle changes direction, we need to split the integral into two parts and consider the absolute value of the velocity in each part."
      ],
      "metadata": {
        "id": "qG9W5MrRDKL8"
      }
    }
  ]
}