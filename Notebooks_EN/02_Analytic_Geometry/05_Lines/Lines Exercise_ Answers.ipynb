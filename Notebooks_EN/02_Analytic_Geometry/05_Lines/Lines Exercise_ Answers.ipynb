{
  "cells": [
    {
      "cell_type": "code",
      "execution_count": null,
      "metadata": {},
      "outputs": [],
      "source": [
        "# Example: Finding the equation of a line\n",
        "def line_equation(point1, point2):\n",
        "    x1, y1 = point1\n",
        "    x2, y2 = point2\n",
        "    slope = (y2 - y1) / (x2 - x1)\n",
        "    intercept = y1 - slope * x1\n",
        "    return f'y = {slope}x + {intercept}'\n",
        "\n",
        "line_equation((1, 2), (3, 4))"
      ]
    }
  ],
  "metadata": {
    "kernelspec": {
      "display_name": "Python 3",
      "language": "python",
      "name": "python3"
    },
    "language_info": {
      "codemirror_mode": {
        "name": "ipython",
        "version": 3
      },
      "file_extension": ".py",
      "mimetype": "text/x-python",
      "name": "python",
      "nbconvert_exporter": "python",
      "pygments_lexer": "ipython3",
      "version": "3.8.5"
    }
  },
  "nbformat": 4,
  "nbformat_minor": 4
}

