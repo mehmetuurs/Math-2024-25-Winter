{
  "cells": [
    {
      "cell_type": "code",
      "execution_count": null,
      "id": "random_id_1",
      "metadata": {
        "id": "random_id_1",
        "outputId": "291bde26-1b7e-4947-f38a-3b52608f95bf"
      },
      "outputs": [
        {
          "data": {
            "text/plain": [
              "'Hello, World!'"
            ]
          },
          "execution_count": 1,
          "metadata": {},
          "output_type": "execute_result"
        }
      ],
      "source": [
        "print('Planes in space!')"
      ]
    },
    {
      "cell_type": "markdown",
      "source": [
        "1-)A(1,2,3), B(3,4,5), C(2,1,4)\n",
        "\n",
        "✈find two vectors in the plane\n",
        "\n",
        "1- Vector AB:\n",
        "\n",
        "  AB= B-A= (3-1,4-2,5-3)=(2,2,2)\n",
        "\n",
        "2- Vector AC:\n",
        "\n",
        "  AC= C-A= (2-1,1-2,4-3)=(1,-1,1)\n",
        "\n",
        "  \n"
      ],
      "metadata": {
        "id": "DQTL1l-0U_Jo"
      },
      "id": "DQTL1l-0U_Jo"
    }
  ],
  "metadata": {
    "colab": {
      "provenance": []
    }
  },
  "nbformat": 4,
  "nbformat_minor": 5
}