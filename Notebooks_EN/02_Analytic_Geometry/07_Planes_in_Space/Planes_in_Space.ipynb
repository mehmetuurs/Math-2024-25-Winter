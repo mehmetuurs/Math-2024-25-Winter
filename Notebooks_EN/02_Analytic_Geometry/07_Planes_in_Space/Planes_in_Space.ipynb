{
  "cell_type": "code",
  "execution_count": 1,
  "id": "cell_1",
  "metadata": {},
  "outputs": [
    {
      "data": {
        "text/plain": ["'Hello, World!'"]
      },
      "execution_count": 1,
      "metadata": {},
      "output_type": "execute_result"
    }
  ],
  "source": ["print('Hello, World!')"]
}

